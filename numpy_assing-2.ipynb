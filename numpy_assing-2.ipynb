{
 "cells": [
  {
   "cell_type": "markdown",
   "id": "b9bf7229-5c71-4402-b4f8-93d0c9adda7b",
   "metadata": {},
   "source": [
    "## theoretical questions\n"
   ]
  },
  {
   "cell_type": "markdown",
   "id": "82bda696-c39f-4221-bc79-742859dda445",
   "metadata": {},
   "source": [
    "Q.1  Explain the purpose and advantages of NumPy in scientific computing and data analysis. How does it\n",
    "enhance Python's capabilities for numerical operations?\n",
    "\n",
    "Ans=> Vector-Vector multiplication.\n",
    "Matrix-Matrix multiplication and Matrix-Vector multiplication.\n",
    "Element-wise operations on vectors and matrices (i.e., adding, subtracting, multiplying, and dividing by a number )"
   ]
  },
  {
   "cell_type": "markdown",
   "id": "f66f54c1-6093-47f8-b3c7-14d174aa013f",
   "metadata": {},
   "source": [
    "Q.2  Compare and contrast np.mean() and np.average() functions in NumPy. When would you use one over the\n",
    "other?\n",
    "\n",
    "Ans=> # mean\n",
    "1. Use to calculate arithmetic mean\n",
    "2. All elements have equal weight\n",
    "3. Syntax :\n",
    "\n",
    "np.mean(arr, axis = None)\n",
    "\n",
    "where ‘arr’ is the given array.\n",
    "\n",
    "#avrage\n",
    "\n",
    "1. Use to calculate the arithmetic mean as well as weighted average.\n",
    "\n",
    "2. All elements may or may not have equal weight.\n",
    "Syntax :\n",
    "\n",
    "numpy.average(arr, axis = None, weights = None)\n",
    "\n",
    "Where ‘arr’ is the given array"
   ]
  },
  {
   "cell_type": "markdown",
   "id": "5df9751f-3dd2-47af-8102-65ce9331f84e",
   "metadata": {},
   "source": [
    " Q.3 Describe the methods for reversing a NumPy array along different axes. Provide examples for 1D and 2D\n",
    "arrays\n",
    "\n",
    "ans=>The numpy.flip() function reverses the order of array elements along the specified axis preserving the shape of the array."
   ]
  },
  {
   "cell_type": "code",
   "execution_count": 4,
   "id": "fae974a9-da88-4223-8d41-10443ececf72",
   "metadata": {},
   "outputs": [
    {
     "name": "stdout",
     "output_type": "stream",
     "text": [
      "final array [5 4 6 3 2 1]\n"
     ]
    }
   ],
   "source": [
    "# example of 1D array\n",
    "import numpy as np\n",
    "\n",
    "# initialising numpy array\n",
    "ini_array = np.array([1, 2, 3, 6, 4, 5])\n",
    "a = np.flip(ini_array)\n",
    "\n",
    "print(\"final array\", str(a))\n"
   ]
  },
  {
   "cell_type": "code",
   "execution_count": 6,
   "id": "d487ccb0-40aa-42c7-b8c7-5cea9f5a944a",
   "metadata": {},
   "outputs": [
    {
     "name": "stdout",
     "output_type": "stream",
     "text": [
      "final array [[8 9 6 3 2 1]]\n"
     ]
    }
   ],
   "source": [
    "# example of 2D array\n",
    "\n",
    "# initialising numpy array\n",
    "ini_array = np.array([[1, 2, 3, 6, 9, 8]])\n",
    "a = np.flip(ini_array)\n",
    "print(\"final array\", str(a))\n"
   ]
  },
  {
   "cell_type": "markdown",
   "id": "dc24a72a-66f7-4aac-ae82-fad41fabbbfc",
   "metadata": {},
   "source": [
    " Q.2  How can you determine the data type of elements in a NumPy array? Discuss the importance of data types\n",
    "in memory management and performance\n",
    "\n",
    "Ans=> We can check the datatype of Numpy array by using dtype. it returns the data type of array eliment .\n",
    "\n",
    "Data types are help to enforce code reliability and efficiency.\n"
   ]
  },
  {
   "cell_type": "markdown",
   "id": "4577422c-bb0d-4970-8516-71f110cfe7d7",
   "metadata": {},
   "source": [
    "Q.5. Define ndarrays in NumPy and explain their key features. How do they differ from standard Python lists?\n",
    "\n",
    "Ans=>  An ndarray is a usually fixed-size multidimensional container of items of the same type and size.\n",
    "\n",
    "High-performance N-dimensional array object. \n",
    "It contains tools for integrating code from C/C++ and Fortran. \n",
    "It contains a multidimensional container for generic data. \n",
    "Additional linear algebra, Fourier transform, and random number capabilities. \n",
    "It consists of broadcasting functions."
   ]
  },
  {
   "cell_type": "markdown",
   "id": "1c5bd38f-e5e0-433c-88c3-7b5bc31f20ed",
   "metadata": {},
   "source": [
    "Q.6  Analyze the performance benefits of NumPy arrays over Python lists for large-scale numerical operations.\n",
    "\n",
    "Ans=> NumPy arrays are homogeneous and contiguous in memory, allowing for optimized processing with compiled C code. This results in faster execution times for mathematical operations and array manipulations compared to Python lists."
   ]
  },
  {
   "cell_type": "markdown",
   "id": "b8fbcfa1-53ef-4002-ba2a-adb5de792bf6",
   "metadata": {},
   "source": [
    "Q.7 Compare vstack() and hstack() functions in NumPy. Provide examples demonstrating their usage and\n",
    "output\n",
    "\n",
    "Ans=> The major difference is that np.hstack combines NumPy arrays horizontally and \n",
    "np.vstack combines arrays vertically."
   ]
  },
  {
   "cell_type": "markdown",
   "id": "35b38fbb-1dc4-4e46-ba7b-50cdc346dfa1",
   "metadata": {},
   "source": [
    "Q.8 Explain the differences between fliplr() and flipud() methods in NumPy, including their effects on various\n",
    "array dimensions.\n",
    "\n",
    "Ans=> The flipud() method will also reverse the Numpy array items. The numpy.flipud() method flips the array (elements in each column) up and down, keeping the shape.\n",
    " the flipr()\n",
    "We may quickly reverse an array using the numpy.fliplr() method. The np.fliplr() function flips the array from left to right. The numpy.fliplr() method always takes an array as an argument and returns the same array with a left-right flip. Assuming you have a matrix, a request occurs requiring you to flip the items in each row while keeping the column intact"
   ]
  },
  {
   "cell_type": "markdown",
   "id": "97cfb760-efff-4fac-b0e4-b9dbe549834a",
   "metadata": {},
   "source": [
    "Q.9 Discuss the functionality of the array_split() method in NumPy. How does it handle uneven splits?\n",
    "\n",
    "Ans=> Array splitting in NumPy is like a slice of cake. Think of each element in a NumPy array as a slice of cake. Splitting divides this “cake” into smaller “slices” (sub-arrays), often along specific dimensions or based on certain criteria. We can split horizontally, vertically, or even diagonally depending on our needs."
   ]
  },
  {
   "cell_type": "code",
   "execution_count": 22,
   "id": "4d2a5ef4-1727-41e5-a1df-80b30c4f873d",
   "metadata": {},
   "outputs": [
    {
     "name": "stdout",
     "output_type": "stream",
     "text": [
      "[array([1, 2]), array([3, 4]), array([5, 6])]\n"
     ]
    }
   ],
   "source": [
    "# example of array_split()\n",
    "import numpy as np\n",
    "Arr = np.array([1, 2, 3, 4, 5, 6])\n",
    "array = np.array_split(Arr, 3)\n",
    "print(array)\n",
    "\n"
   ]
  },
  {
   "cell_type": "markdown",
   "id": "9b913464-eba8-4b02-9cee-3a2a2f9e6863",
   "metadata": {},
   "source": [
    "Q.10 Explain the concepts of vectorization and broadcasting in NumPy. How do they contribute to efficient array\n",
    "operations?\n",
    "\n",
    " Ans => Broadcasting provides a means of vectorizing array operations, therefore eliminating the need for Python loops. "
   ]
  },
  {
   "cell_type": "markdown",
   "id": "e43d701c-1186-4a7d-a41c-ad5829340432",
   "metadata": {},
   "source": [
    "# practical questions"
   ]
  },
  {
   "cell_type": "markdown",
   "id": "e9a7c419-1f98-4f81-aa61-e334870d9e88",
   "metadata": {},
   "source": [
    "Q.1 Create a 3x3 NumPy array with random integers between 1 and 100. Then, interchange its rows and columns."
   ]
  },
  {
   "cell_type": "code",
   "execution_count": 49,
   "id": "f153b441-0ed2-4f22-b96b-8847a32d2dab",
   "metadata": {},
   "outputs": [
    {
     "name": "stdout",
     "output_type": "stream",
     "text": [
      "[[49 79 13]\n",
      " [73 81 51]\n",
      " [79  6 56]]\n"
     ]
    }
   ],
   "source": [
    "import numpy as np \n",
    "\n",
    "\n",
    "array = np.random.randint(100, size=(3, 3)) \n",
    "print(array) "
   ]
  },
  {
   "cell_type": "code",
   "execution_count": 51,
   "id": "cc03fb0e-0b89-4451-964a-f8c317f80d56",
   "metadata": {},
   "outputs": [
    {
     "data": {
      "text/plain": [
       "array([[49, 73, 79],\n",
       "       [79, 81,  6],\n",
       "       [13, 51, 56]])"
      ]
     },
     "execution_count": 51,
     "metadata": {},
     "output_type": "execute_result"
    }
   ],
   "source": [
    "array.T\n"
   ]
  },
  {
   "cell_type": "markdown",
   "id": "454f0ef9-5a3e-4758-9444-ed8405a2797f",
   "metadata": {},
   "source": [
    "Q.2 Generate a 1D NumPy array with 10 elements. Reshape it into a 2x5 array, then into a 5x2 array."
   ]
  },
  {
   "cell_type": "code",
   "execution_count": 54,
   "id": "10f285c4-107a-4374-b533-2b1674209ea4",
   "metadata": {},
   "outputs": [
    {
     "data": {
      "text/plain": [
       "array([ 1,  2,  3,  4,  5,  6,  7,  8,  9, 10])"
      ]
     },
     "execution_count": 54,
     "metadata": {},
     "output_type": "execute_result"
    }
   ],
   "source": [
    "arr1 = np.array([1,2,3,4,5,6,7,8,9,10])\n",
    "arr1"
   ]
  },
  {
   "cell_type": "code",
   "execution_count": 59,
   "id": "094d6ad6-c8c3-48f4-a0d9-7fc304717915",
   "metadata": {},
   "outputs": [
    {
     "data": {
      "text/plain": [
       "array([[ 1,  2,  3,  4,  5],\n",
       "       [ 6,  7,  8,  9, 10]])"
      ]
     },
     "execution_count": 59,
     "metadata": {},
     "output_type": "execute_result"
    }
   ],
   "source": [
    "arr1.reshape((2, 5))"
   ]
  },
  {
   "cell_type": "code",
   "execution_count": 60,
   "id": "bbe0fc9c-0809-4c67-8a67-4a5589511648",
   "metadata": {},
   "outputs": [
    {
     "data": {
      "text/plain": [
       "array([[ 1,  2],\n",
       "       [ 3,  4],\n",
       "       [ 5,  6],\n",
       "       [ 7,  8],\n",
       "       [ 9, 10]])"
      ]
     },
     "execution_count": 60,
     "metadata": {},
     "output_type": "execute_result"
    }
   ],
   "source": [
    "arr1.reshape((5,2))"
   ]
  },
  {
   "cell_type": "markdown",
   "id": "65e3b698-59ec-441e-8639-dd5ec1776899",
   "metadata": {},
   "source": [
    "3. Create a 4x4 NumPy array with random float values. Add a border of zeros around it, resulting in a 6x6 array."
   ]
  },
  {
   "cell_type": "code",
   "execution_count": 62,
   "id": "727ea7e0-167a-44b4-ac8b-a81c6d496f0f",
   "metadata": {},
   "outputs": [
    {
     "name": "stdout",
     "output_type": "stream",
     "text": [
      "Original array\n",
      "[[1. 1. 1. 1.]\n",
      " [1. 1. 1. 1.]\n",
      " [1. 1. 1. 1.]\n",
      " [1. 1. 1. 1.]]\n",
      "\n",
      "0 on the border and 1 inside the array\n",
      "[[0. 0. 0. 0. 0. 0.]\n",
      " [0. 1. 1. 1. 1. 0.]\n",
      " [0. 1. 1. 1. 1. 0.]\n",
      " [0. 1. 1. 1. 1. 0.]\n",
      " [0. 1. 1. 1. 1. 0.]\n",
      " [0. 0. 0. 0. 0. 0.]]\n"
     ]
    }
   ],
   "source": [
    "# importing Numpy package \n",
    "import numpy as np \n",
    "\n",
    "# Creating a 2X2 Numpy matrix \n",
    "array = np.ones((4, 4)) \n",
    "\n",
    "print(\"Original array\") \n",
    "print(array) \n",
    "\n",
    "print(\"\\n0 on the border and 1 inside the array\") \n",
    "\n",
    "array = np.pad(array, pad_width=1, mode='constant', \n",
    "\t\t\tconstant_values=0) \n",
    "\n",
    "print(array) \n"
   ]
  },
  {
   "cell_type": "code",
   "execution_count": 64,
   "id": "6d12afd5-1ee8-4663-8598-e5c2380b6ba5",
   "metadata": {},
   "outputs": [
    {
     "data": {
      "text/plain": [
       "36"
      ]
     },
     "execution_count": 64,
     "metadata": {},
     "output_type": "execute_result"
    }
   ],
   "source": [
    "array.size"
   ]
  },
  {
   "cell_type": "markdown",
   "id": "204d5e3c-3130-46b7-b8c8-b04d9903a3f8",
   "metadata": {},
   "source": [
    "Q.4. Using NumPy, create an array of integers from 10 to 60 with a step of 5.\n"
   ]
  },
  {
   "cell_type": "code",
   "execution_count": 110,
   "id": "02e69eef-df86-48f9-bf1d-fa8a73b1a7bb",
   "metadata": {},
   "outputs": [
    {
     "name": "stdout",
     "output_type": "stream",
     "text": [
      "Array of the integers from 10 to 60\n",
      "[10 11 12 13 14 15 16 17 18 19 20 21 22 23 24 25 26 27 28 29 30 31 32 33\n",
      " 34 35 36 37 38 39 40 41 42 43 44 45 46 47 48 49 50 51 52 53 54 55 56 57\n",
      " 58 59]\n"
     ]
    }
   ],
   "source": [
    "\n",
    "# Creating an array of integers from 10 to 60 using np.arange()\n",
    "array = np.arange(10, 60)\n",
    "\n",
    "print(\"Array of the integers from 10 to 60\")\n",
    "\n",
    "print(array) \n"
   ]
  },
  {
   "cell_type": "markdown",
   "id": "e7294517-6b5f-4591-a5e5-a90c7e3db1c2",
   "metadata": {},
   "source": [
    "Q.5 Create a NumPy array of strings ['python', 'numpy', 'pandas']. Apply different case transformations\n",
    "(uppercase, lowercase, title case, etc.) to each element"
   ]
  },
  {
   "cell_type": "code",
   "execution_count": 72,
   "id": "b2b4b9f6-ffae-430c-a4cb-7526f84964fe",
   "metadata": {},
   "outputs": [
    {
     "data": {
      "text/plain": [
       "array(['python', 'numpy', 'pandas'], dtype='<U6')"
      ]
     },
     "execution_count": 72,
     "metadata": {},
     "output_type": "execute_result"
    }
   ],
   "source": [
    "arr = np.array(['python', 'Numpy','PaNdaS'])\n",
    "arr\n",
    "np.char.lower(arr)"
   ]
  },
  {
   "cell_type": "code",
   "execution_count": 73,
   "id": "812079cf-5de4-48ed-ada1-6d7005020a77",
   "metadata": {},
   "outputs": [
    {
     "data": {
      "text/plain": [
       "array(['PYTHON', 'NUMPY', 'PANDAS'], dtype='<U6')"
      ]
     },
     "execution_count": 73,
     "metadata": {},
     "output_type": "execute_result"
    }
   ],
   "source": [
    "np.char.upper(arr)"
   ]
  },
  {
   "cell_type": "code",
   "execution_count": 74,
   "id": "a2bfd72b-1624-4b24-9084-619bdd0891a2",
   "metadata": {},
   "outputs": [
    {
     "data": {
      "text/plain": [
       "array(['Python', 'Numpy', 'Pandas'], dtype='<U6')"
      ]
     },
     "execution_count": 74,
     "metadata": {},
     "output_type": "execute_result"
    }
   ],
   "source": [
    "np.char.title(arr)"
   ]
  },
  {
   "cell_type": "markdown",
   "id": "565c324f-0127-4f59-932e-2881a63f2aab",
   "metadata": {},
   "source": [
    "Q.6 Generate a NumPy array of words. Insert a space between each character of every word in the array."
   ]
  },
  {
   "cell_type": "code",
   "execution_count": 81,
   "id": "abc1c542-1570-4c37-b46b-8251fb32621c",
   "metadata": {},
   "outputs": [
    {
     "data": {
      "text/plain": [
       "array(['p w', 'f o r', 's k i l l s'], dtype='<U11')"
      ]
     },
     "execution_count": 81,
     "metadata": {},
     "output_type": "execute_result"
    }
   ],
   "source": [
    "arr = np.array(['pw','for','skills'])\n",
    "arr\n",
    "np.char.join(\" \", arr)"
   ]
  },
  {
   "cell_type": "markdown",
   "id": "c7aab837-53e0-4653-aa80-cc71e3c6e283",
   "metadata": {},
   "source": [
    "Q.7 Create two 2D NumPy arrays and perform element-wise addition, subtraction, multiplication, and division"
   ]
  },
  {
   "cell_type": "code",
   "execution_count": 84,
   "id": "32772dfe-23fd-4918-81a4-991a026438c5",
   "metadata": {},
   "outputs": [
    {
     "data": {
      "text/plain": [
       "array([[1., 1., 1., 1.],\n",
       "       [1., 1., 1., 1.],\n",
       "       [1., 1., 1., 1.]])"
      ]
     },
     "execution_count": 84,
     "metadata": {},
     "output_type": "execute_result"
    }
   ],
   "source": [
    "arr1 = np.ones((3,4))\n",
    "arr1"
   ]
  },
  {
   "cell_type": "code",
   "execution_count": 98,
   "id": "171e4dae-3522-4534-9f8d-5061abe5136a",
   "metadata": {},
   "outputs": [
    {
     "name": "stdout",
     "output_type": "stream",
     "text": [
      "[[4 2 3 6]\n",
      " [6 2 0 6]\n",
      " [4 8 6 2]]\n"
     ]
    }
   ],
   "source": [
    "arr2 = np.random.randint(10, size=(3, 4)) \n",
    "print(arr2) "
   ]
  },
  {
   "cell_type": "code",
   "execution_count": 99,
   "id": "b7bdd6cc-496c-4d01-b91e-b4124661d780",
   "metadata": {},
   "outputs": [
    {
     "data": {
      "text/plain": [
       "array([[5., 3., 4., 7.],\n",
       "       [7., 3., 1., 7.],\n",
       "       [5., 9., 7., 3.]])"
      ]
     },
     "execution_count": 99,
     "metadata": {},
     "output_type": "execute_result"
    }
   ],
   "source": [
    "arr1 + arr2"
   ]
  },
  {
   "cell_type": "code",
   "execution_count": 100,
   "id": "19a0b40c-97cf-4e5d-a436-e77b4a1c2f41",
   "metadata": {},
   "outputs": [
    {
     "data": {
      "text/plain": [
       "array([[-3., -1., -2., -5.],\n",
       "       [-5., -1.,  1., -5.],\n",
       "       [-3., -7., -5., -1.]])"
      ]
     },
     "execution_count": 100,
     "metadata": {},
     "output_type": "execute_result"
    }
   ],
   "source": [
    "arr1 - arr2"
   ]
  },
  {
   "cell_type": "code",
   "execution_count": 101,
   "id": "ab713320-41e4-4d78-a87e-c4eb4d03e57d",
   "metadata": {},
   "outputs": [
    {
     "data": {
      "text/plain": [
       "array([[4., 2., 3., 6.],\n",
       "       [6., 2., 0., 6.],\n",
       "       [4., 8., 6., 2.]])"
      ]
     },
     "execution_count": 101,
     "metadata": {},
     "output_type": "execute_result"
    }
   ],
   "source": [
    "arr1 * arr2"
   ]
  },
  {
   "cell_type": "markdown",
   "id": "a46ceaa1-ff7d-4f63-9173-f86a718cb788",
   "metadata": {},
   "source": [
    "Q.8 Use NumPy to create a 5x5 identity matrix, then extract its diagonal elements."
   ]
  },
  {
   "cell_type": "code",
   "execution_count": 109,
   "id": "41c3e6d0-912a-4366-a194-903d3b300bcf",
   "metadata": {},
   "outputs": [
    {
     "name": "stdout",
     "output_type": "stream",
     "text": [
      "Matrix b : \n",
      " [[1. 0. 0. 0. 0.]\n",
      " [0. 1. 0. 0. 0.]\n",
      " [0. 0. 1. 0. 0.]\n",
      " [0. 0. 0. 1. 0.]\n",
      " [0. 0. 0. 0. 1.]]\n",
      "\n",
      "Matrix a : \n",
      " [[1. 0. 0. 0.]\n",
      " [0. 1. 0. 0.]\n",
      " [0. 0. 1. 0.]\n",
      " [0. 0. 0. 1.]]\n"
     ]
    }
   ],
   "source": [
    "\n",
    "b = np.identity(5, dtype = float)\n",
    "print(\"Matrix b : \\n\", b)\n",
    "\n",
    "a = np.identity(4)\n",
    "print(\"\\nMatrix a : \\n\", a)\n"
   ]
  },
  {
   "cell_type": "markdown",
   "id": "23876d51-4fd6-4e0a-9292-6c280afec451",
   "metadata": {},
   "source": [
    "Q.9 Generate a NumPy array of 100 random integers between 0 and 1000. Find and display all prime numbers in\n",
    "this array.\n",
    "\n"
   ]
  },
  {
   "cell_type": "code",
   "execution_count": 111,
   "id": "2c76507f-4c8a-419e-b0cc-e1f50cd15862",
   "metadata": {},
   "outputs": [
    {
     "name": "stdout",
     "output_type": "stream",
     "text": [
      "Array of the integers from 1 to 100\n",
      "[10 11 12 13 14 15 16 17 18 19 20 21 22 23 24 25 26 27 28 29 30 31 32 33\n",
      " 34 35 36 37 38 39 40 41 42 43 44 45 46 47 48 49 50 51 52 53 54 55 56 57\n",
      " 58 59]\n"
     ]
    }
   ],
   "source": [
    "array = np.arange(10, 60)\n",
    "\n",
    "print(\"Array of the integers from 1 to 100\")\n",
    "print(array) \n"
   ]
  },
  {
   "cell_type": "markdown",
   "id": "b59be610-ee8e-47fe-95f2-388741da8315",
   "metadata": {},
   "source": [
    "Q.10 Create a NumPy array representing daily temperatures for a month. Calculate and display the weekly\n",
    "averages."
   ]
  },
  {
   "cell_type": "code",
   "execution_count": 126,
   "id": "05102db1-7156-47e9-857a-962e7a958745",
   "metadata": {},
   "outputs": [
    {
     "data": {
      "text/plain": [
       "(40, 42, 44, 40, 39, 46, 45)"
      ]
     },
     "execution_count": 126,
     "metadata": {},
     "output_type": "execute_result"
    }
   ],
   "source": [
    "\n",
    "temperatures = (40, 42, 44, 40, 39, 46, 45)\n",
    "temperatures\n",
    " \n",
    "    "
   ]
  },
  {
   "cell_type": "code",
   "execution_count": 129,
   "id": "40cf9c79-0eb9-4d9c-b5ac-b2939386a943",
   "metadata": {},
   "outputs": [
    {
     "data": {
      "text/plain": [
       "42.285714285714285"
      ]
     },
     "execution_count": 129,
     "metadata": {},
     "output_type": "execute_result"
    }
   ],
   "source": [
    "np.average(temperatures)"
   ]
  },
  {
   "cell_type": "code",
   "execution_count": null,
   "id": "15554ec6-b24f-485c-b519-f5e3c2851161",
   "metadata": {},
   "outputs": [],
   "source": []
  }
 ],
 "metadata": {
  "kernelspec": {
   "display_name": "Python 3 (ipykernel)",
   "language": "python",
   "name": "python3"
  },
  "language_info": {
   "codemirror_mode": {
    "name": "ipython",
    "version": 3
   },
   "file_extension": ".py",
   "mimetype": "text/x-python",
   "name": "python",
   "nbconvert_exporter": "python",
   "pygments_lexer": "ipython3",
   "version": "3.10.8"
  }
 },
 "nbformat": 4,
 "nbformat_minor": 5
}
